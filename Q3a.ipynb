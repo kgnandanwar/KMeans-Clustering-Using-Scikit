{
 "cells": [
  {
   "cell_type": "code",
   "execution_count": 2,
   "id": "3ab04478",
   "metadata": {},
   "outputs": [],
   "source": [
    "import numpy as np\n",
    "import matplotlib.pyplot as plt\n",
    "import pandas as pd\n",
    "from sklearn import datasets, svm, metrics"
   ]
  },
  {
   "cell_type": "code",
   "execution_count": 3,
   "id": "c09e8387",
   "metadata": {},
   "outputs": [],
   "source": [
    "from sklearn.datasets import load_digits\n",
    "digits = load_digits()\n",
    "train = digits.data\n",
    "targets = digits.target"
   ]
  },
  {
   "cell_type": "code",
   "execution_count": 4,
   "id": "0a9a8cf6",
   "metadata": {},
   "outputs": [],
   "source": [
    "from sklearn.cluster import KMeans\n",
    "\n",
    "kmeans = KMeans(n_clusters=10, init = 'k-means++', random_state = 0)\n",
    "pred = kmeans.fit(train)"
   ]
  },
  {
   "cell_type": "code",
   "execution_count": 5,
   "id": "aa7f1368",
   "metadata": {},
   "outputs": [
    {
     "name": "stdout",
     "output_type": "stream",
     "text": [
      "[5 7 7 ... 7 3 3]\n"
     ]
    }
   ],
   "source": [
    "# print(targets)\n",
    "Labels = pred.labels_\n",
    "print(Labels)"
   ]
  },
  {
   "cell_type": "code",
   "execution_count": 6,
   "id": "7bf4f9cb",
   "metadata": {},
   "outputs": [],
   "source": [
    "def clusterChecking(tar,lab):\n",
    "    new_lab=np.copy(lab)\n",
    "    for j in range(10):\n",
    "        temp=np.where(lab==j)\n",
    "        temp_array=tar[temp]\n",
    "        vals,counts = np.unique(temp_array, return_counts=True)\n",
    "       \n",
    "        index = np.argmax(counts)\n",
    "        m=vals[index]\n",
    "        new_lab[temp]=m\n",
    "    return new_lab  "
   ]
  },
  {
   "cell_type": "code",
   "execution_count": 7,
   "id": "4bdd061e",
   "metadata": {},
   "outputs": [
    {
     "name": "stdout",
     "output_type": "stream",
     "text": [
      "[0 1 2 ... 8 9 8]\n",
      "[0 8 8 ... 8 9 9]\n"
     ]
    }
   ],
   "source": [
    "new = clusterChecking(targets, Labels)\n",
    "print(targets)\n",
    "# print(Labels)\n",
    "print(new)"
   ]
  },
  {
   "cell_type": "code",
   "execution_count": 8,
   "id": "69c99043",
   "metadata": {},
   "outputs": [
    {
     "name": "stdout",
     "output_type": "stream",
     "text": [
      "[[177   0   0   0   1   0   0   0   0   0]\n",
      " [  0  55  24   1   0   1   2   0  99   0]\n",
      " [  1   2 148  13   0   0   0   3   8   2]\n",
      " [  0   0   0 154   0   2   0   7   7  13]\n",
      " [  0   7   0   0 163   0   0   7   4   0]\n",
      " [  0   0   0   0   2 136   1   0   0  43]\n",
      " [  1   1   0   0   0   0 177   0   2   0]\n",
      " [  0   0   0   0   0   0   0 177   2   0]\n",
      " [  0   5   3   2   0   4   2   5 100  53]\n",
      " [  0  20   0   6   0   6   0   7   2 139]]\n"
     ]
    }
   ],
   "source": [
    "from sklearn.metrics import confusion_matrix, accuracy_score\n",
    "cm = confusion_matrix(targets, new)\n",
    "print(cm)"
   ]
  },
  {
   "cell_type": "code",
   "execution_count": 9,
   "id": "9c3b1f08",
   "metadata": {},
   "outputs": [
    {
     "name": "stdout",
     "output_type": "stream",
     "text": [
      "Accuracy:  70.2734687012768 %\n"
     ]
    }
   ],
   "source": [
    "accuracy = metrics.fowlkes_mallows_score(targets, new)\n",
    "print('Accuracy: ',accuracy*100, '%')"
   ]
  }
 ],
 "metadata": {
  "kernelspec": {
   "display_name": "Python 3",
   "language": "python",
   "name": "python3"
  },
  "language_info": {
   "codemirror_mode": {
    "name": "ipython",
    "version": 3
   },
   "file_extension": ".py",
   "mimetype": "text/x-python",
   "name": "python",
   "nbconvert_exporter": "python",
   "pygments_lexer": "ipython3",
   "version": "3.8.8"
  }
 },
 "nbformat": 4,
 "nbformat_minor": 5
}
